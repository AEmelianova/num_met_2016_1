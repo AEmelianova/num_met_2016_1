{
 "cells": [
  {
   "cell_type": "markdown",
   "metadata": {
    "collapsed": false
   },
   "source": [
    "# Лабораторная работа №6\n",
    "## Поиск экстремума функции многих переменных\n",
    "*В данной работе был выполнен поиск экстремума функции нескольких переменных с помощью шрадиентного\n",
    "метода с дроблением шага*\n",
    "\n",
    "*Суть метода состоит в выборе параметра $\\alpha>0$ и параметра дробления $0<\\lambda<1$\n",
    "Затем при выбранном начальном приближении ищется градиент от заданной функции и проверяется условие\n",
    "$f(x^k+\\alpha p^k)<f(x^k)$, где p-веткор градиента, если условие выполнено, то точка $x^k+\\alpha p^k$\n",
    "берётся за следующее приближение, иначе изменяем(дробим) шаг $\\alpha$, домножая его на параметр $\\lambda$. Условие выхода из цикла $\\frac{||x^k-x^{k-1}||}{1+||x^{k-1}||}<\\delta$*\n",
    "\n",
    "*Также был построен график поверхности, линии уровня и траектория поиска и оценена овражность.\n",
    "Овражность оценивалась как отношение собственных чисел матрицы Гессе.\n",
    "$$H(f)={\\begin{bmatrix}{\\frac  {\\partial ^{2}f}{\\partial x_{1}^{2}}}&{\\frac  {\\partial ^{2}f}{\\partial x_{1}\\,\\partial x_{2}}}&\\cdots &{\\frac  {\\partial ^{2}f}{\\partial x_{1}\\,\\partial x_{n}}}\\\\\\\\{\\frac  {\\partial ^{2}f}{\\partial x_{2}\\,\\partial x_{1}}}&{\\frac  {\\partial ^{2}f}{\\partial x_{2}^{2}}}&\\cdots &{\\frac  {\\partial ^{2}f}{\\partial x_{2}\\,\\partial x_{n}}}\\\\\\\\\\vdots &\\vdots &\\ddots &\\vdots \\\\\\\\{\\frac  {\\partial ^{2}f}{\\partial x_{n}\\,\\partial x_{1}}}&{\\frac  {\\partial ^{2}f}{\\partial x_{n}\\,\\partial x_{2}}}&\\cdots &{\\frac  {\\partial ^{2}f}{\\partial x_{n}^{2}}}\\end{bmatrix}}$$*\n",
    "\n",
    "*Кроме того была обеспечена работа программы в режиме \"чёрного ящика\" и для функций размерности до 10*\n",
    "\n",
    "Работу выполнил: студент 431 группы Перекалов Александр"
   ]
  },
  {
   "cell_type": "code",
   "execution_count": 11,
   "metadata": {
    "collapsed": false
   },
   "outputs": [
    {
     "name": "stdout",
     "output_type": "stream",
     "text": [
      "395\n"
     ]
    }
   ],
   "source": [
    "import matplotlib.pyplot as plt\n",
    "def func1(L=[]):\n",
    "    #f=x**4+y**4+2*(x**2)*(y**2)-4*x+3\n",
    "    f=L[0]**4+L[1]**4+2*(L[0]**2)*(L[1]**2)-4*L[0]+3\n",
    "    return f\n",
    "L=[2,4]\n",
    "print(func1(L))\n",
    "#print(func1(2,4))"
   ]
  },
  {
   "cell_type": "code",
   "execution_count": 3,
   "metadata": {
    "collapsed": false
   },
   "outputs": [
    {
     "name": "stdout",
     "output_type": "stream",
     "text": [
      "0.04548330242723231\n"
     ]
    }
   ],
   "source": [
    "#обьявление многомерной функции\n",
    "import math\n",
    "import numpy\n",
    "N=3\n",
    "def func2(L):\n",
    "    f=1\n",
    "    for i in range(0,len(L)):\n",
    "        f=f*math.exp(-0.2*(L[i]-2)**2)\n",
    "    return f\n",
    "L=[-0.145,-0.5,-0.145]\n",
    "y=func2(L)\n",
    "print(y)     "
   ]
  },
  {
   "cell_type": "code",
   "execution_count": 62,
   "metadata": {
    "collapsed": false
   },
   "outputs": [],
   "source": [
    "#график поверхности\n",
    "from mpl_toolkits.mplot3d import Axes3D\n",
    "import numpy\n",
    "fig = plt.figure()\n",
    "ax = Axes3D(fig)\n",
    "X=numpy.arange(-2,2,0.2)\n",
    "Y=numpy.arange(-2,2,0.2)\n",
    "Xg, Yg = numpy.meshgrid(X, Y)\n",
    "Z=func1(numpy.meshgrid(X,Y))\n",
    "ax.plot_surface(Xg, Yg, Z, rstride=1, cstride=1, cmap='Spectral')\n",
    "plt.show()"
   ]
  },
  {
   "cell_type": "code",
   "execution_count": 5,
   "metadata": {
    "collapsed": false
   },
   "outputs": [
    {
     "name": "stdout",
     "output_type": "stream",
     "text": [
      "[0.35946317128443539, 0.0]\n"
     ]
    }
   ],
   "source": [
    "import numpy\n",
    "import scipy.misc\n",
    "Poi=[0,2]\n",
    "#Poi=[1,1.5,2,2.5,1,4,2,6,8,10]\n",
    "def gradient(func, point):#point-список(точка с координатами)\n",
    "    grad=[]\n",
    "    args = point\n",
    "    for i in range(0,len(point)):\n",
    "        def wraps(x):\n",
    "            args[i] = x\n",
    "            return func(args)\n",
    "            #return func(*args)#для изначальной функции\n",
    "        grad.append(scipy.misc.derivative(wraps, point[i], dx = 1e-6))\n",
    "    return grad\n",
    "#h=gradient(func1, Poi)\n",
    "h=gradient(func2, Poi)\n",
    "print(h)"
   ]
  },
  {
   "cell_type": "code",
   "execution_count": 13,
   "metadata": {
    "collapsed": false
   },
   "outputs": [
    {
     "name": "stdout",
     "output_type": "stream",
     "text": [
      "6\n",
      "овражность 3.0\n",
      "[0.99993103365575631, 2.3765232565980905e-06]\n"
     ]
    }
   ],
   "source": [
    "#метод для двумерной функции\n",
    "import numpy\n",
    "delta=0.001\n",
    "Xk=[1,3]#начальное приближение\n",
    "S=[0.,0.]#следующее приближение\n",
    "PLOTX=[Xk[0]]#список для построения пути поиска\n",
    "PLOTY=[Xk[1]]\n",
    "n=0\n",
    "def gradmetod(func1, Xk, delta, maxiter, alpha=()):\n",
    "    n=0\n",
    "    lambd=0.5#параметр дробления\n",
    "    while(True):\n",
    "        step=0.8\n",
    "        Pk=gradient(func1,Xk)\n",
    "        n=n+1\n",
    "        if n>maxiter:\n",
    "            print(\"превышено число итераций\")\n",
    "            break\n",
    "        while(True):\n",
    "            S1=0\n",
    "            S2=0\n",
    "            for i in range(0,len(S)):\n",
    "                S1=Xk[i]\n",
    "                S2=step*Pk[i]\n",
    "                S[i]=S1-S2\n",
    "            if func1(S)>func1(Xk):\n",
    "                step=step*lambd\n",
    "            else:\n",
    "                PLOTX.append(S[0])\n",
    "                PLOTY.append(S[1])\n",
    "                break\n",
    "        if numpy.linalg.norm(numpy.array(S)-numpy.array(Xk))/(1+numpy.linalg.norm(numpy.array(Xk)))>delta:\n",
    "            for j in range(0,len(S)):\n",
    "                Xk[j]=S[j]\n",
    "        else:\n",
    "            break\n",
    "    print(n)\n",
    "    return(S)\n",
    "S=gradmetod(func1,Xk,delta,1000)\n",
    "Gess=numpy.zeros([2,2], \"f\")\n",
    "Gess[0][0]=12*(S[0]**2)+4*(S[1]**2)\n",
    "Gess[0][1]=8*S[0]*S[1]\n",
    "Gess[1][0]=Gess[0][1]\n",
    "Gess[1][1]=12*(S[1]**2)+4*(S[0]**2)\n",
    "z1=numpy.linalg.eigvals(Gess)\n",
    "if abs(z1[0])>abs(z1[1]):\n",
    "    ovr=abs(z1[0]/z1[1])\n",
    "else:\n",
    "    ovr=abs(z1[1]/z1[0])\n",
    "print(\"овражность\", ovr)\n",
    "print(S)"
   ]
  },
  {
   "cell_type": "code",
   "execution_count": 91,
   "metadata": {
    "collapsed": false
   },
   "outputs": [],
   "source": [
    "#построение линий уровня\n",
    "X=numpy.arange(-2.1,2.1,0.1)\n",
    "Y=numpy.arange(-2.1,2.1,0.1)\n",
    "L=[0,0.1,0.3,0.5,1,1.5,2,2.5,3,4,5,6,7,8,9,10,12,14,16,18,20,22,24,26,28,30]\n",
    "#X, Y = numpy.meshgrid(X, Y)\n",
    "Xg, Yg = numpy.meshgrid(X, Y)\n",
    "Z=func1(numpy.meshgrid(X,Y))\n",
    "#Z=numpy.zeros([len(X), len(X)], \"f\")\n",
    "#Z=func1(X,Y)\n",
    "plt.figure()\n",
    "cp = plt.contour(Xg, Yg, Z, levels=L)\n",
    "manual_locations=[(1,1)]\n",
    "plt.plot(PLOTX,PLOTY, 'r')\n",
    "plt.show()\n",
    "#print(X)"
   ]
  },
  {
   "cell_type": "code",
   "execution_count": 9,
   "metadata": {
    "collapsed": false
   },
   "outputs": [
    {
     "name": "stdout",
     "output_type": "stream",
     "text": [
      "8\n",
      "[1.9999107166108221, 1.9998563965709895, 1.9998926098198555, 2.000001250787701, 2.000091784770289, 2.0001823188083883, 1.9998201826837452, 2.0003633867458088, 2.0000917849368225, 2.0000012508432121]\n"
     ]
    }
   ],
   "source": [
    "import numpy\n",
    "Xk=[1.5,1.2,1.4,2,2.5,3,1,4,2.5,2]#начальное приближение\n",
    "S=[0.,0.,0.,0.,0.,0.,0.,0.,0.,0.]#следующее приближение\n",
    "def gradmetod2(func2, Xk, delta, maxiter, alpha=()):\n",
    "    n=0\n",
    "    lambd=0.5#параметр дробления\n",
    "    step=2\n",
    "    while(True):\n",
    "        Pk=gradient(func2,Xk)\n",
    "        n=n+1\n",
    "        if n>maxiter:\n",
    "            print(\"превышено число итераций\")\n",
    "            break\n",
    "        while(True):\n",
    "            S1=0\n",
    "            S2=0\n",
    "            for i in range(0,len(S)):\n",
    "                S1=Xk[i]\n",
    "                S2=step*Pk[i]\n",
    "                S[i]=S1+S2\n",
    "            if func2(S)<func2(Xk):\n",
    "                step=step*lambd\n",
    "            else:\n",
    "                break\n",
    "        if numpy.linalg.norm(numpy.array(S)-numpy.array(Xk))/(1+numpy.linalg.norm(numpy.array(Xk)))>delta:\n",
    "            for j in range(0,len(S)):\n",
    "                Xk[j]=S[j]\n",
    "        else:\n",
    "            break\n",
    "    print(n)\n",
    "    return S\n",
    "numpy.set_printoptions(precision=4,suppress=True, linewidth=250)\n",
    "print(gradmetod2(func2, Xk, 0.001,1000))"
   ]
  }
 ],
 "metadata": {
  "anaconda-cloud": {},
  "kernelspec": {
   "display_name": "Python [Root]",
   "language": "python",
   "name": "Python [Root]"
  },
  "language_info": {
   "codemirror_mode": {
    "name": "ipython",
    "version": 3
   },
   "file_extension": ".py",
   "mimetype": "text/x-python",
   "name": "python",
   "nbconvert_exporter": "python",
   "pygments_lexer": "ipython3",
   "version": "3.5.2"
  }
 },
 "nbformat": 4,
 "nbformat_minor": 0
}
