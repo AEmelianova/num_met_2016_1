{
 "cells": [
  {
   "cell_type": "markdown",
   "metadata": {},
   "source": [
    "                      Нижегородский государственный университет имени Н. И. Лобачевского\n",
    "\n",
    "                                          Радиофизический факультет\n",
    "\n",
    "                                            Кафедра математики\n",
    "                                            \n",
    "####                 Приложение к отчету по лабораторной работе \"Численное решение систем линейных уравнений, численное интегрирование\"\n",
    "\n",
    "                                              \n",
    "                                                 Вариант 2\n",
    "                                                                                  \n",
    "                                                                                  \n",
    "                                                                                  \n",
    "                                                                                  \n",
    "                                                                               Выполнила: Зибаова Александра, 430 гр.\n",
    "                                                                               Проверил: Шиндин А. В.\n",
    "\n",
    "                                         Нижний Новгород, 2016 год.\n",
    "                                    "
   ]
  },
  {
   "cell_type": "markdown",
   "metadata": {},
   "source": [
    "###  Содержание\n",
    "1. Постановка задачи\n",
    "2. Цели работы\n",
    "3. Описание используемых алгоритмов\n",
    "4. Исходный код программы\n",
    "5. Результаты работы программы\n",
    "6. Анализ результатов \n",
    "\n",
    "\n",
    "###   1. Постановка задачи.\n",
    "1. Выбрать свой вариант системы (номер варианта остается с предыдущей лабораторной работы). Кроме самой системы в варианте должны быть указаны:\n",
    " * число уравнений системы\n",
    " * требуемый метод/методы решения системы\n",
    " * необходимая относительная точность решения системы\n",
    " * требуемый метод вычисления интеграла\n",
    " * необходимая относительная точность вычисления интеграла (если не указана, то брать — 0,01).\n",
    "\n",
    "2.  Вычислить определенный интеграл двумя методами\n",
    " * Заданным методом\n",
    " * С помощью функции numpy.trapz(…), графически провести сравнение с результатами предыдущего метода. Разницу объяснить.\n",
    "\n",
    "3. Построить график подынтегральной функции, а также график зависимости значения интеграла от номера итерации предлагаемого метода численного интегрирования.\n",
    "\n",
    "4. Решить систему заданным методом \n",
    "\n",
    " * Для 10000 уравнений\n",
    "\n",
    "5. Построить график решения X(i), а также график зависимости нормы решения от номера итерации предлагаемого метода численного решения системы.\n",
    "\n",
    "6. Решить систему с помощью функции numpy.linalg.solve(…). Результат графически сравнить с решением, полученным в пункте 4. Разницу объяснить.\n",
    "\n",
    "###   2. Цель работы\n",
    "* Освоить методы численного интегрирования. Вычислить определенный интеграл с использованием **рекуррентной формулы Буля** с относительной точностью **0,01**\n",
    "* Научиться численно решать системы линейных уравнений. Решение систему из 1000 и 10000 уравнений **методом прогонки** и **методом Гаусса-Зейделя** с относительной точностью **0,001**."
   ]
  },
  {
   "cell_type": "markdown",
   "metadata": {
    "collapsed": true
   },
   "source": [
    "## Рассматриваемая система уравнений имеет вид:\n",
    "$$x_1=0.1*x_2$$\n",
    "$$(2*i+1)*x_{i-1}-(6*i^2+3)*x_i+(4*i+2)*x_{i+1}=\\int\\limits_0^1\\frac{e^{-i^2*t}}{1+i*t*sin(t)^2}\\,dt, i=2,3,\\ldots,n$$\n",
    "$$x_n=0.5*x_{n-1}$$"
   ]
  },
  {
   "cell_type": "markdown",
   "metadata": {},
   "source": [
    "###   3. Описание используемых алгоритмов\n",
    "Содержится в основной части отчета"
   ]
  },
  {
   "cell_type": "markdown",
   "metadata": {},
   "source": [
    "###   4. Исходный код программы"
   ]
  },
  {
   "cell_type": "code",
   "execution_count": 2,
   "metadata": {
    "collapsed": false
   },
   "outputs": [
    {
     "name": "stdout",
     "output_type": "stream",
     "text": [
      "kek\n"
     ]
    }
   ],
   "source": [
    "import matplotlib.pyplot as plt\n",
    "import numpy as np\n",
    "import math\n",
    "import scipy.integrate as integrate\n",
    "import numpy.linalg as lin\n",
    "%matplotlib inline\n",
    "print('kek')"
   ]
  },
  {
   "cell_type": "code",
   "execution_count": 3,
   "metadata": {
    "collapsed": false
   },
   "outputs": [
    {
     "name": "stdout",
     "output_type": "stream",
     "text": [
      "nomer yravneniya7\n",
      "kek\n"
     ]
    }
   ],
   "source": [
    "def f(x,j):\n",
    "    return math.exp(-x*j**2)/(1+j*x*math.sin(x**2))\n",
    "k=int(input('nomer yravneniya'))\n",
    "def fst(x):\n",
    "    return f(x,k)\n",
    "xst = np.arange(0,1,0.01)\n",
    "yst = [fst(l) for l in xst]\n",
    "print('kek')"
   ]
  },
  {
   "cell_type": "code",
   "execution_count": 1,
   "metadata": {
    "collapsed": false
   },
   "outputs": [],
   "source": [
    "def summ(p,k):\n",
    "    tz=0; e=0; Integ=0\n",
    "    for o in range(0,p):\n",
    "        tz=o/p\n",
    "        e+=1/p\n",
    "        Integ+=(e-tz)/90*(7*f(tz,k)+32*f((3*tz+e)/4,k)+12*f((tz+e)/2,k)+32*f((tz+3*e)/4,k)+7*f(e,k))\n",
    "    return Integ  \n",
    "\n",
    "def integral(k):\n",
    "    N=2\n",
    "    p=summ(1,k)\n",
    "    while math.fabs((summ(N,k)-summ(N-1,k))/summ(N-1,k))>0.01:\n",
    "        N=N+1\n",
    "        p=summ(N-1,k)\n",
    "    print('Номер интерации: ',N)\n",
    "    return p    \n",
    "def integral1(k):\n",
    "    N=2\n",
    "    p=summ(1,k)\n",
    "    while math.fabs((summ(N,k)-summ(N-1,k))/summ(N-1,k))>0.01:\n",
    "        N=N+1\n",
    "        p=summ(N-1,k)\n",
    "    return p   "
   ]
  },
  {
   "cell_type": "code",
   "execution_count": 5,
   "metadata": {
    "collapsed": false
   },
   "outputs": [
    {
     "name": "stdout",
     "output_type": "stream",
     "text": [
      "kek\n"
     ]
    }
   ],
   "source": [
    "NTR=np.trapz(yst, x=None, dx=0.01)\n",
    "print('kek')"
   ]
  },
  {
   "cell_type": "code",
   "execution_count": 6,
   "metadata": {
    "collapsed": false
   },
   "outputs": [
    {
     "name": "stdout",
     "output_type": "stream",
     "text": [
      "kolichestvo yravnenyi sistemy10000\n",
      "kolichestvo it100\n",
      "kek\n"
     ]
    }
   ],
   "source": [
    "NN=int(input('kolichestvo yravnenyi sistemy'))\n",
    "NNN=int(input('kolichestvo it'))\n",
    "#Коэффициенты уравнений#\n",
    "A=np.zeros((N,N))\n",
    "A1=np.zeros((N,3))\n",
    "A[0,0]=A1[0,1]=1\n",
    "A[0,1]=A1[0,2]=-0.1\n",
    "A[N-1,N-1]=A1[N-1,1]=-1\n",
    "A[N-1,N-2]=A1[N-1,0]=0.5\n",
    "for i in range (2,N):\n",
    "    A[i-1,i-2]=A1[i-1,0]=2*i+1\n",
    "    A[i-1,i-1]=A1[i-1,1]=-6*i**2-3\n",
    "    A[i-1,i]=A1[i-1,2]=4*i+2\n",
    "#Правые части уравнений#    \n",
    "\n",
    "B=np.zeros((N))\n",
    "for i in range (2,N):\n",
    "    B[i-1]=integral1(i)\n",
    "def f2(x):\n",
    "    return f(x,7)\n",
    "print('kek')"
   ]
  },
  {
   "cell_type": "code",
   "execution_count": 7,
   "metadata": {
    "collapsed": false
   },
   "outputs": [
    {
     "name": "stdout",
     "output_type": "stream",
     "text": [
      "kek\n"
     ]
    }
   ],
   "source": [
    "L=np.zeros((N))\n",
    "M=np.zeros((N))\n",
    "Xpodg=np.zeros((N))\n",
    "L[1]=-A1[0,2]/A1[0,1]\n",
    "M[1]=B[0]/A1[0,1]\n",
    "for i in range (2,N):\n",
    "    L[i]=-A1[i-1,2]/(A1[i-1,0]*L[i-1]+A1[i-1,1])\n",
    "    M[i]=(B[i-1]-M[i-1]*A1[i-1,0])/(A1[i-1,0]*L[i-1]+A1[i-1,1])\n",
    "Xpodg[N-1]=(B[N-1]-M[N-1]*A1[N-1,0])/(L[N-1]*A1[N-1,0]+A1[N-1,1])\n",
    "for i in range (1,N):\n",
    "    Xpodg[N-i-1]=L[N-i]*Xpodg[N-i]+M[N-i]\n",
    "print('kek')"
   ]
  },
  {
   "cell_type": "code",
   "execution_count": 8,
   "metadata": {
    "collapsed": false
   },
   "outputs": [
    {
     "name": "stdout",
     "output_type": "stream",
     "text": [
      "kek\n"
     ]
    }
   ],
   "source": [
    "Ln=np.zeros((N,N))\n",
    "D=np.zeros((N,N))\n",
    "for i in range (0,N):\n",
    "    D[i,i]=A[i,i]\n",
    "for i in range(0,N):\n",
    "    for j in range (0,i):\n",
    "        Ln[i,j]=A[i,j]\n",
    "R=A-D-Ln\n",
    "H=D+Ln\n",
    "Hi=lin.inv(H)\n",
    "Bt=np.zeros((N,1))\n",
    "for i in range(0,N):\n",
    "    Bt[i,0]=B[i]\n",
    "k1=np.dot(Hi,Bt)\n",
    "k2=-np.dot(Hi,R)\n",
    "print('kek')"
   ]
  },
  {
   "cell_type": "code",
   "execution_count": 9,
   "metadata": {
    "collapsed": false
   },
   "outputs": [
    {
     "name": "stdout",
     "output_type": "stream",
     "text": [
      "iterazii100\n",
      "kek\n"
     ]
    }
   ],
   "source": [
    "\n",
    "Xgz0=np.zeros((N,1))\n",
    "iter_GZ=int(input('iterazii'))\n",
    "Norm=[]\n",
    "nor0=0; konets=0\n",
    "for i in range(0,iter_GZ):\n",
    "    Xgz =np.dot(k2,Xgz0)+k1\n",
    "    nor=lin.norm(Xgz)\n",
    "    Norm.append(nor)\n",
    "    if (nor-nor0)/nor<0.00001:\n",
    "        break\n",
    "    else:    \n",
    "        nor0=nor\n",
    "        Xgz0=Xgz\n",
    "        konets=i\n",
    "print('kek')"
   ]
  },
  {
   "cell_type": "code",
   "execution_count": 10,
   "metadata": {
    "collapsed": false
   },
   "outputs": [
    {
     "name": "stdout",
     "output_type": "stream",
     "text": [
      "kek\n"
     ]
    }
   ],
   "source": [
    "Xpy=lin.solve(A,B)\n",
    "print('kek')"
   ]
  },
  {
   "cell_type": "markdown",
   "metadata": {},
   "source": [
    "###   5. Результат работы программы\n",
    "* Для вычисления интеграла"
   ]
  },
  {
   "cell_type": "code",
   "execution_count": 11,
   "metadata": {
    "collapsed": false
   },
   "outputs": [
    {
     "name": "stdout",
     "output_type": "stream",
     "text": [
      "График подынтегральной функции для выбранного интеграла\n"
     ]
    },
    {
     "data": {
      "image/png": "[encoded data removed]",
      "text/plain": [
       "<matplotlib.figure.Figure at 0x82db4a8>"
      ]
     },
     "metadata": {},
     "output_type": "display_data"
    },
    {
     "name": "stdout",
     "output_type": "stream",
     "text": [
      "График зависимости значения интеграла от номера итерации в методе Буля\n"
     ]
    },
    {
     "data": {
      "image/png": "[encoded data removed]",
      "text/plain": [
       "<matplotlib.figure.Figure at 0x82cb208>"
      ]
     },
     "metadata": {},
     "output_type": "display_data"
    },
    {
     "name": "stdout",
     "output_type": "stream",
     "text": [
      "Значение интеграла в результате вычисления методом Буля\n",
      "0.020400990056163262\n",
      "Значение интеграла в результате вычисления с помощью numpy.trapz\n",
      "0.0208076364541\n",
      "kek\n"
     ]
    }
   ],
   "source": [
    "print(('График подынтегральной функции для выбранного интеграла'))\n",
    "plt.plot(xst,yst)\n",
    "plt.title('Schedule integrand')\n",
    "plt.grid()\n",
    "plt.show()\n",
    "print(('График зависимости значения интеграла от номера итерации в методе Буля'))\n",
    "plt.plot(X)\n",
    "plt.axis([0, 500, 0, max(X)+max(X)/10])\n",
    "plt.grid()\n",
    "plt.show()\n",
    "print('Значение интеграла в результате вычисления методом Буля')\n",
    "print(max(X))\n",
    "print('Значение интеграла в результате вычисления с помощью numpy.trapz')\n",
    "print(NTR)\n",
    "print('kek')"
   ]
  },
  {
   "cell_type": "markdown",
   "metadata": {},
   "source": [
    "* Для системы уравнений"
   ]
  },
  {
   "cell_type": "code",
   "execution_count": 13,
   "metadata": {
    "collapsed": false
   },
   "outputs": [
    {
     "name": "stdout",
     "output_type": "stream",
     "text": [
      "График решения X(i)\n"
     ]
    },
    {
     "data": {
      "image/png": "[encoded data removed]",
      "text/plain": [
       "<matplotlib.figure.Figure at 0xa47ce80>"
      ]
     },
     "metadata": {},
     "output_type": "display_data"
    },
    {
     "name": "stdout",
     "output_type": "stream",
     "text": [
      "Или, при увеличении масштаба:\n"
     ]
    },
    {
     "data": {
      "image/png": "[encoded data removed]",
      "text/plain": [
       "<matplotlib.figure.Figure at 0xa4e0f28>"
      ]
     },
     "metadata": {},
     "output_type": "display_data"
    },
    {
     "name": "stdout",
     "output_type": "stream",
     "text": [
      "График зависимости нормы решения от номера итерации:\n"
     ]
    },
    {
     "data": {
      "image/png": "[encoded data removed]",
      "text/plain": [
       "<matplotlib.figure.Figure at 0xa54fda0>"
      ]
     },
     "metadata": {},
     "output_type": "display_data"
    },
    {
     "name": "stdout",
     "output_type": "stream",
     "text": [
      "kek\n"
     ]
    }
   ],
   "source": [
    "print(('График решения X(i)'))\n",
    "plt.plot(Xpy)\n",
    "plt.plot(Xpodg)\n",
    "plt.plot(Xgz0)\n",
    "plt.axis([0, 20, min(Xpy)-0.005, max(Xpy)+0.005])\n",
    "plt.grid()\n",
    "plt.show()\n",
    "print(('Или, при увеличении масштаба:'))\n",
    "plt.plot(Xpy)\n",
    "plt.plot(Xpodg)\n",
    "plt.plot(Xgz0)\n",
    "plt.axis([5, 1000, -0.000000005, 0])\n",
    "plt.grid()\n",
    "plt.show()\n",
    "print(('График зависимости нормы решения от номера итерации:'))\n",
    "plt.plot(Norm)\n",
    "plt.axis([0, konets, 0.007, 0.015])\n",
    "plt.grid()\n",
    "plt.show()\n",
    "print('kek')"
   ]
  },
  {
   "cell_type": "markdown",
   "metadata": {},
   "source": [
    "###   6. Анализ результатов\n",
    "Совпадает с написанным в основной работе (для 1000 уравнений)"
   ]
  },
  {
   "cell_type": "code",
   "execution_count": null,
   "metadata": {
    "collapsed": true
   },
   "outputs": [],
   "source": []
  }
 ],
 "metadata": {
  "anaconda-cloud": {},
  "kernelspec": {
   "display_name": "Python [Root]",
   "language": "python",
   "name": "Python [Root]"
  },
  "language_info": {
   "codemirror_mode": {
    "name": "ipython",
    "version": 3
   },
   "file_extension": ".py",
   "mimetype": "text/x-python",
   "name": "python",
   "nbconvert_exporter": "python",
   "pygments_lexer": "ipython3",
   "version": "3.5.2"
  }
 },
 "nbformat": 4,
 "nbformat_minor": 0
}
