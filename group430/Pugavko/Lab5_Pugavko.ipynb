{
 "cells": [
  {
   "cell_type": "markdown",
   "metadata": {
    "nbpresent": {
     "id": "b582dbab-7fcf-4590-90a3-344e0779252d"
    },
    "slideshow": {
     "slide_type": "slide"
    }
   },
   "source": [
    "## Лабораторная работа #5. Решение СЛАУ.\n",
    "***\n",
    "* Работу выполнил студент Пугавко М.М. 430 гр"
   ]
  },
  {
   "cell_type": "markdown",
   "metadata": {
    "nbpresent": {
     "id": "20a796a9-ebd8-45f0-9801-ea593bcc84f3"
    },
    "slideshow": {
     "slide_type": "fragment"
    }
   },
   "source": [
    "Так как у нас в СЛАУ нахходятся интегралы, то для начала необходимо расчитать их. Расчитывать интеграллы будем методом трапеций.\n",
    "\n",
    "#####  Вычисление интегралла методом трапеций.\n",
    "***\n",
    "Пусть у нас задан интеграл $ \\int_{а}^{b} f(x) dx     $. Требуется вычилить его на отрезке $[a,b]$, для этого воспользуемся методом трапеций. Мы вычисляем площади трапеций под графиком функции, т.е. бьем область под графиком на множество трапеций и вычисляем значение интеграла по следующей формуле:\n",
    "$$ \\int_{a}^{b} f(x) dx  = \\sum_{1}^{N-1} \\frac{[f(x)+f(x+dx)]}{2}h$$,\n",
    "где h определяется выражением: $h = [b-a]/N$.\n",
    "Значением N определяется разбивка всей площади на трапеции, но ее нужно уметь определять, по этому воспльзуемся формулой для погрешности по остаточному члену, для этого нам потребуется найти вторую производную от подинтегральной функции и найти ее максимум на отрезке [a,b]. В python есть встроенный метод max, которым мы сможем определить максимальное значение второй производной на данном отрезке, тем самым выпишим формулу для погрешности:\n",
    "\n",
    "$$R_n < \\frac{(b-a)^3M}{8N}$$,\n",
    "Эта формула для абсолютной погрешности, но деля это значение на значение интеграла, для данного N, легко можно найти относительною погрешность и из условия, что она не должна превышать 0.01 (по условию задания), легко можно найти значение N.\n",
    "\n",
    "Итак интеграл мы вычислили, но теперь необходимо переходить к вычисление СЛАУ, разберем метод простых итераций или, что тоже самое метод последовательных прибилижений.\n",
    "***\n",
    "\n",
    "###### Решение СЛАУ методом простых итераций\n",
    "****\n",
    "Все формулы будем писат в вектроном виде, для более краткой и быстрой записиси.\n",
    "\n",
    "Пусть, есть система линейных уравнений:\n",
    "                                                                      $$Ax=b (1)$$ \n",
    "\n",
    "Приведем систему (1) к следующему виду:\n",
    "$x = Tx  +  b$ $ (2)$,\n",
    "\n",
    "где A выражается через T следующим образоам:\n",
    "$$ A = T - E$$,\n",
    "E <- матрица, на главной диагонали стоят единицы. \n",
    "Перейдем к объяснению самого метода. \n",
    "\n",
    "Пусть дана система (2). Метод простых итераций заключается в том, что мы постепенно приближаем значения x, начиная с какго-то нулего приближения, но возьмем за нулевое приближение b, в нашем случае b - это вектор столбец интеграллов, которые мы выпишем ниже. Схема вычислений:\n",
    "$$x^{(0)} = b$$\n",
    "$$x^{(1)} = Ax^{(0)} + b$$\n",
    "$$...$$\n",
    "$$x^{(k+1)} = Ax^{(k)} + b$$\n",
    "$$...$$\n",
    "Но нам необходимо уметь рассчитывать точность сис емы, для этого мы покажем способ проверки точности вычисления системы, для этого мы должны сравнивать значения предыдущей итерации со значений последующей итерациии, покажем формульно это, также учтем, что у нас задана относительная погрешность равная 0.001. А значит, что мы поделим абсолютную погнрешность на значение x.\n",
    "$$|x^{(K+1)} - x^{(k)}| < 0.001$$\n",
    "\n",
    "Мы будем сравнивать только первое значение, так как это будет выполнено для любого $x_i$ из системы. \n",
    "***\n",
    "Вся теория готова для нашей работы, но заберем дополнительные задания, которые предоствлены к нашей работе.\n",
    "\n",
    "1)\n",
    "\n",
    "> построение графика зависимости значения интеграла от итерациии. Это довольно легко сделать, для этого необходимо строить график на каждой  итерации, либо заполнять одномерный массив, а потом его строить с помощью моодуля matplot.\n",
    "\n",
    "2)\n",
    "\n",
    "> Использование встроенного метода в модуль numpy trapz(Y, x, dx). Y - массив значений функции f(x), в точках x, можно не заполнят массив x, на достаточно задавать массив Y и шаг dx. Можно предположить, что результаты должны слвпасть, так как trapz считает методом трапеций.\n",
    "\n",
    "3)\n",
    "\n",
    "> Решение 10000 уравнений, в основном задании дана 1000 уравнений, но писать программу мы будет сразу для 10000, так как нет рзаницы, если написать на 10000, то прграмма точно должна выполняться для 1000 уравнений. Для этого будем писать программу с расчетом на то, чтобы при запуске программы она спрашивала коичество уравнений, которые нужео решить, так же это упростит проверку программы, так как можно будет задавать 2 уравнения, а их проверить не сложно, а вообще проверку будем осуществлять с помощью linalg.solve, но о нем поговорим в следующем пункте. \n",
    "\n",
    "4)\n",
    "\n",
    "> Использование метода linalg.solve(A, b) в модуле numpy. Матрицы A и b такие, как в системе (1). При сравнении с решением не должны сильно отличаться от нашего. А вообще говоря должны совпадать, как говорилось в пункте выше, с помощью этого метода можно проверить адекватность нашего решения.\n",
    "\n",
    "5)\n",
    "\n",
    "> Построение графиков X(i). Построение необходимо проводить, как для нашего решения, так и для решения сказанного в пункте 4). \n",
    "> Ясно, что они должны совпадать, этим мы и проведем проверку нашего решения.\n",
    "\n",
    "***\n",
    "###### Задание.\n",
    "***\n",
    "Нам задана следующая система:\n",
    "$$n^3x_i = \\sum_{j = 1 }^ n \\frac{j^2 + cos(j)}{1 + j^2 + i^2}x_j + \\int_{1}^{3} ln(ln(10 + i + cos(t))) dt, i = 1, 2, ...$$\n",
    "Если поделить все на $n^3$, тогда матрицы T и b будут определены. \n",
    "\n",
    "Вычислять интеграл мы будем методом трапеций, как говорилось выше, сравнивать с встроенным методом trapz в numpy. Относительная точность задана равной 0.01.\n",
    "\n",
    "Вычислять систему будем методом простых итераций, как говорилось выше. Решение сравнивать будем с встроенным методом linalg.solve в numpy. \n",
    "\n",
    "Выполня задание мы будем пользоваться парадигмой ООП, а также по максимуму функции, если скорость выполнения программы не будет достаточно хорошей, то будем использовать матричные методы из numpy, а в противном обойдемся минимальным использованием данных методов.\n",
    "\n",
    "Для упрощения мониторинга выполнения программы зададим счетчик времени и строку прогресса выполнения программы.\n"
   ]
  },
  {
   "cell_type": "code",
   "execution_count": 1,
   "metadata": {
    "collapsed": false,
    "nbpresent": {
     "id": "805bd431-8849-497b-b334-cb6185a544f8"
    },
    "scrolled": false,
    "slideshow": {
     "slide_type": "slide"
    }
   },
   "outputs": [
    {
     "name": "stdout",
     "output_type": "stream",
     "text": [
      "The precision of the system .001\n",
      "quantity 1001\n",
      "itaration_info 20\n"
     ]
    },
    {
     "data": {
      "image/png": "[encoded data removed]",
      "text/plain": [
       "<matplotlib.figure.Figure at 0x7f6ec48862e8>"
      ]
     },
     "metadata": {},
     "output_type": "display_data"
    },
    {
     "data": {
      "image/png": "[encoded data removed]",
      "text/plain": [
       "<matplotlib.figure.Figure at 0x7f6ec4886278>"
      ]
     },
     "metadata": {},
     "output_type": "display_data"
    },
    {
     "data": {
      "image/png": "[encoded data removed]",
      "text/plain": [
       "<matplotlib.figure.Figure at 0x7f6e9bcad240>"
      ]
     },
     "metadata": {},
     "output_type": "display_data"
    },
    {
     "name": "stdout",
     "output_type": "stream",
     "text": [
      "Percent: [----------] 0.0% \n",
      " Матрица интегралов\n",
      "\n",
      " [[  1.73234104e-09]\n",
      " [  1.79624668e-09]\n",
      " [  1.85304758e-09]\n",
      " ..., \n",
      " [  3.64221427e-09]\n",
      " [  3.64248379e-09]\n",
      " [  3.64275301e-09]] \n",
      " \n",
      "\n",
      "\n",
      "    *\n",
      "    *\n",
      "    *\n",
      "    *\n",
      "Percent: [##########] 99.9000999000999% \n",
      " Матрица коэффициентов\n",
      "\n",
      " [[  5.11896875e-10   5.95520512e-10   7.26002315e-10 ...,   9.97004991e-10\n",
      "    9.97004557e-10   9.97003610e-10]\n",
      " [  2.55948438e-10   3.97013675e-10   5.70430390e-10 ...,   9.97001994e-10\n",
      "    9.97001566e-10   9.97000625e-10]\n",
      " [  1.39608239e-10   2.55223077e-10   4.20317130e-10 ...,   9.96996999e-10\n",
      "    9.96996581e-10   9.96995650e-10]\n",
      " ..., \n",
      " [  1.53876354e-15   3.58026211e-15   8.00194132e-15 ...,   4.98503245e-10\n",
      "    4.99001778e-10   4.99499555e-10]\n",
      " [  1.53568755e-15   3.57310521e-15   7.98594560e-15 ...,   4.98004492e-10\n",
      "    4.98503026e-10   4.99000804e-10]\n",
      " [  1.53262079e-15   3.56596974e-15   7.96999780e-15 ...,   4.97506240e-10\n",
      "    4.98004773e-10   4.98502551e-10]]\n",
      "1\n",
      "Percent: [##########] 99.9000999000999% \n",
      " X(i) \n",
      "\n",
      "[[  1.73234104e-09]\n",
      " [  1.79624668e-09]\n",
      " [  1.85304759e-09]\n",
      " ..., \n",
      " [  3.64221686e-09]\n",
      " [  3.64248638e-09]\n",
      " [  3.64275559e-09]]\n"
     ]
    },
    {
     "data": {
      "image/png": "[encoded data removed]",
      "text/plain": [
       "<matplotlib.figure.Figure at 0x7f6e9bdbacc0>"
      ]
     },
     "metadata": {},
     "output_type": "display_data"
    },
    {
     "name": "stdout",
     "output_type": "stream",
     "text": [
      "Percent: [##########] 99.9000999000999% "
     ]
    },
    {
     "data": {
      "image/png": "[encoded data removed]",
      "text/plain": [
       "<matplotlib.figure.Figure at 0x7f6ec4886320>"
      ]
     },
     "metadata": {},
     "output_type": "display_data"
    },
    {
     "data": {
      "image/png": "[encoded data removed]",
      "text/plain": [
       "<matplotlib.figure.Figure at 0x7f6e9ab17fd0>"
      ]
     },
     "metadata": {},
     "output_type": "display_data"
    },
    {
     "name": "stdout",
     "output_type": "stream",
     "text": [
      "Разница между решениями\n",
      "[[  4.13590306e-25]\n",
      " [  0.00000000e+00]\n",
      " [  0.00000000e+00]\n",
      " ..., \n",
      " [  1.24077092e-24]\n",
      " [  4.13590306e-25]\n",
      " [  1.24077092e-24]]\n",
      "time: 10.443405 sec\n"
     ]
    }
   ],
   "source": [
    "%matplotlib inline\n",
    "import time, sys\n",
    "import matplotlib.pyplot as plt\n",
    "import math as ma\n",
    "import numpy as na\n",
    "import array\n",
    "#-----------------------------------------------------------------------------------------------------------------------------------------   \n",
    "iteration = 1\n",
    "eps = float(input('The precision of the system ' ))\n",
    "quantity = int(input('quantity '))\n",
    "itaration_info = int(input('itaration_info ')) \t# Посмотрим зависимость значения интеграла  от номера итераций итер.\n",
    "def f_diff(x,l):\n",
    "\treturn -ma.cos(x) - (1 - ma.sin(x)*ma.log(10+l+ma.cos(x)) )/(ma.log(10+l+ma.cos(x))*(10+l+ma.cos(x)))**2\n",
    "def update_progress(progress): # Пишем progress_bar, можно использовать класс, но для удобства обойдемся функцией\n",
    "    barLength = 10 \n",
    "    status = \"\"\n",
    "    if isinstance(progress, int):\n",
    "        progress = float(progress)\n",
    "    if not isinstance(progress, float):\n",
    "        progress = 0\n",
    "        status = \"error: progress var must be float\\r\\n\"\n",
    "    if progress < 0:\n",
    "        progress = 0\n",
    "        status = \"Halt...\\r\\n\"\n",
    "    if progress >= 1:\n",
    "        progress = 1\n",
    "        status = \"Done...\\r\\n\"\n",
    "    block = int(round(barLength*progress))\n",
    "    text = \"\\rPercent: [{0}] {1}% {2}\".format( \"#\"*block + \"-\"*(barLength-block), progress*100, status)\n",
    "    sys.stdout.write(text)\n",
    "    sys.stdout.flush()\n",
    "class all_function:                  \t\t#зададим класс, в который помещаем основной набор функций.\n",
    "\tdef __init__(self, h):\n",
    "\t\tself.h = h \n",
    "\t\tself.X = 0\n",
    "\t\tself.k = 0\n",
    "\tdef __del__(self): \n",
    "\t\tpass        \n",
    "\tdef f_integer(self, x, i):  \t\t#подинтегральная функция\t\n",
    "\t\tf = ma.log(ma.log(10 + i + ma.cos(x)))\n",
    "\t\treturn f\n",
    "\tdef integer1(self, e):\t    \t\t#интеграл\n",
    "\t\taRea = 1\n",
    "\t\tdelta = 10\n",
    "\t\tep = 0.01\n",
    "\t\tXaprox = na.linspace(1,3,1000)\n",
    "\t\tydif = [f_diff(k,e) for k in Xaprox]  \n",
    "\t\tMax = ma.fabs(max(ydif))\n",
    "\t\titeration = 2\n",
    "\t\twhile (float(((8*Max/(12*iteration)))/aRea) > ep):\n",
    "\t\t\taRea = 0 \n",
    "\t\t\tX = na.zeros((1 ,iteration ))\n",
    "\t\t\tX[0,0] = 1\n",
    "\t\t\tfor i in range(1, iteration-1):\n",
    "\t\t\t\tX[0,i+1] = X[0, i] + 2/iteration\t\n",
    "\t\t\tfor k in range (0, iteration - 1):\n",
    "\t\t\t\taRea += (self.f_integer( X[0,k], e) + self.f_integer( X[0,k+1], e))/2*(2/iteration)\t\t\t\t\t\t\t\t\t\t\t\t\t\n",
    "\t\t\titeration  += 1              \n",
    "\t\treturn aRea\n",
    "\t    \n",
    "\tdef integer(self,i):      #интеграл\n",
    "\t\taRea = 0\n",
    "\t\tfor k in range(0,iteration - 1):            \n",
    "\t\t\taRea += (self.f_integer( X[0,k], i) + self.f_integer( X[0,k+1], i))/2*c.h\n",
    "\t\treturn aRea\n",
    "\tdef sum_functon(self, l, j):            #стоящая под суммой\n",
    "\t\treturn (j**2 + ma.cos(j))/(1+j**2 +l**2)\n",
    "#----------------------------------------------------------------------------------------------------------------------------------- \n",
    "class matrix:\t\t\t\t\t\t#Создадим класс для работы с матрицами\n",
    "\tdef __init__(self, i, j, valueMatrix):\n",
    "\t\tself.i = i\n",
    "\t\tself.j = j\n",
    "\t\tself.Matr = na.zeros((self.i,self.j))\n",
    "\t\tself.valueMatrix = na.zeros((self.i,self.j))\n",
    "\tdef enterMatrix(self):\n",
    "\t\ts = 0\t\t\t\t#заполнение матрицы\n",
    "\t\tn = 0\n",
    "\t\tr = 0\n",
    "\t\tfor p in range(0, self.j):\n",
    "\t\t\tfor k in range(0,self.i):\n",
    "\t\t\t\tif (self.j == 1):               \n",
    "\t\t\t\t\tself.valueMatrix[k, 0] = c.integer1(k+1)/quantity**3  \n",
    "\t\t\t\t\tupdate_progress(k/quantity)\n",
    "\t\t\t\telse:\n",
    "\t\t\t\t\tself.valueMatrix[p, k] = ((k+1)**2 + ma.cos((k+1)))/(1+(k+1)**2 +(p+1)**2)/(quantity**3)\n",
    "\t\t\tupdate_progress(p/quantity)\n",
    "\tdef __del__(self): \n",
    "\t\tpass\n",
    "class SLD:                                      #Класс для вычисления СЛАУ\n",
    "    def __init__(self, X = 0):\n",
    "        self.X = 0\n",
    "    def Aproximation(self, a, x):\n",
    "        return a*x \n",
    "    def System(self):\n",
    "        x = 0\n",
    "        X = self.X\n",
    "        Aproxim_number = na.zeros((quantity,1))\n",
    "        for p in range(quantity):\n",
    "            update_progress(p/quantity)\n",
    "            x = 0\n",
    "            for k in range(quantity):\n",
    "               x += self.Aproximation(matrixSum[k,p], self.X[k, 0])\n",
    "            Aproxim_number[p,0] = x + matrixInteger[p,0]\n",
    "        return Aproxim_number\n",
    "    def __del__(self):\n",
    "        pass\n",
    "start = time.time()\n",
    "#-----------------------------------------------------------------------------------------------------------------------------------------\t\t\t\t\t\n",
    "#-----------------------------------------------------------------------------------------------------------------------------------------\n",
    "c = all_function(2/iteration)                #  Закид. в класс атрибут с шагом  интеграла\n",
    "X = na.zeros((1,iteration + 1))\n",
    "X[0,0] = 1\n",
    "for i in range(0, iteration,1):\n",
    "\tX[0,i+1] = X[0, i] + c.h\n",
    "c.X = X\n",
    "#-----------------------------------------------------------------------------------------------------------------------------------------\n",
    "for iteration in range(1,itaration_info+1):   # Посмотрим зависимость значения интеграла  от номера итераций итер.\n",
    "\tX = na.zeros((1,iteration + 1))\n",
    "\tc = all_function(2/(iteration))\n",
    "\tX = na.zeros((1 ,iteration ))\n",
    "\tX[0,0] = 1\n",
    "\tfor i in range(0, iteration-1):\n",
    "\t\tX[0,i+1] = X[0, i] + c.h\n",
    "\tc.X = X\t\n",
    "\txnew = iteration\n",
    "\tynew = c.integer(2)\n",
    "\tplt.plot(xnew, ynew , 'o')\n",
    "plt.xlabel('number iter.')\n",
    "plt.ylabel('integer')\n",
    "plt.axis([0, itaration_info, 0, 1.8])\n",
    "plt.grid(True)\n",
    "plt.show()\n",
    "xnew = na.linspace(1,3,100)\n",
    "ynew = [c.f_integer(k, 1) for k in xnew]\n",
    "plt.plot(xnew, ynew)\n",
    "plt.ylabel('f(x), number i = 1')\n",
    "plt.xlabel('x')\n",
    "plt.title('integer')\n",
    "plt.grid()\n",
    "plt.show()\n",
    "del c\n",
    "#-----------------------------------------------------------------------------------------------------------------------------------------\n",
    "#шаг сетки определяется значением (2/iteration) (c.h)\n",
    "Y = []\n",
    "X[0,0] = 1\n",
    "for iteration in range(0, itaration_info):\n",
    "\tc = all_function(2/(iteration+1))\n",
    "\tY.append(c.f_integer(X[0,iteration],2))\n",
    "\txnew = iteration + 1\n",
    "\tynew = na.trapz(Y, None, 2/(iteration+1))\n",
    "\tplt.plot(xnew, ynew, 'o'\t)\n",
    "plt.axis([0, itaration_info, 0, 1.8])\n",
    "plt.title('numpy.trapz')\n",
    "plt.xlabel('number iter.')\n",
    "plt.ylabel('integer')\n",
    "plt.grid(True)\n",
    "plt.show()\n",
    "\n",
    "#-----------------------------------------------------------------------------------------------------------------------------------------\n",
    "#-----------------------------------------------------------------------------------------------------------------------------------------\n",
    "i = quantity\n",
    "j = quantity\n",
    "c = all_function(2/iteration) \n",
    "m = matrix(i, 1,0)\n",
    "m.enterMatrix()\t\t\t\t #Матрица интеграллов для СЛАУ\n",
    "matrixInteger = m.valueMatrix\n",
    "print('\\n Матрица интегралов')\n",
    "print('\\n',matrixInteger, '\\n \\n')\n",
    "print (4*'\\n    *')\n",
    "mat = matrix(i, j, 0)\n",
    "mat.enterMatrix()            #Матрица коэффициентов\n",
    "matrixSum = mat.valueMatrix\n",
    "print('\\n Матрица коэффициентов')\n",
    "print('\\n',matrixSum)\n",
    "\n",
    "#-----------------------------------------------------------------------------------------------------------------------------------------\t\n",
    "# Начнем вычисление Слау, за нулевое приближение берем значение интегралов \n",
    "Norm = []\n",
    "Norm.clear()\n",
    "SLd = SLD()\n",
    "SLd.X = matrixInteger #Нулевое приближение, есть значение интеграла. \n",
    "print('1')\n",
    "Delta = 10\n",
    "SLd_one = na.zeros((1,1))\n",
    "Norm.append(na.linalg.norm(SLd.X))\n",
    "o = 0\n",
    "while (Delta > eps):\n",
    "    Delta = (SLd.X[0,0] - SLd_one[0,0])/SLd.X[0,0]\n",
    "    SLd_one = SLd.X\n",
    "    SLd.X = SLd.System()\n",
    "    Norm.append(na.linalg.norm(SLd.X))\n",
    "    \n",
    "    o += 1\n",
    "print('\\n X(i) \\n') \n",
    "print(SLd.X)\n",
    "\n",
    "#-----------------------------------------------------------------------------\n",
    "xnew = []\n",
    "for i in range(quantity):    #solve SL, plot\n",
    "    xnew.append(i)\n",
    "ynew = [SLd.X[k,0] for k in range(quantity)]\n",
    "plt.plot(xnew,ynew)\n",
    "plt.grid(True)\n",
    "plt.title('X(i)')\n",
    "plt.ylabel(\"X(i)\")\n",
    "plt.xlabel(\"i\")\n",
    "plt.show()\n",
    "del SLD\n",
    "del m\n",
    "del c\n",
    "del X\n",
    "del xnew \n",
    "del ynew\n",
    "del Y\n",
    "del mat\n",
    "a = na.zeros((quantity,quantity)) #linalg.solve and plot\n",
    "b = na.zeros((quantity, 1))\n",
    "for p in range(quantity):\n",
    "    update_progress(p/quantity)\n",
    "    for k in range(quantity):\n",
    "        if (k == p):\n",
    "            a[p, k] = (1-matrixSum[k,p])\n",
    "        else: a[p, k] = (-matrixSum[k,p])\n",
    "    b[p, 0] = matrixInteger[p,0]\n",
    "del matrixSum\n",
    "del matrixInteger\n",
    "SOLVE = na.linalg.solve(a, b)\n",
    "xnew = []\n",
    "for i in range(quantity):\n",
    "    xnew.append(i)\n",
    "ynew = [SOLVE[k] for k in range(quantity)]\n",
    "plt.plot(xnew,ynew)\n",
    "plt.grid(True)\n",
    "plt.title('numpy.linalg.solve')\n",
    "plt.ylabel(\"X(i)\")\n",
    "plt.xlabel(\"i\")\n",
    "plt.show()\n",
    "del a\n",
    "del b\n",
    "#----------------------------------------------------------------------------------------------------------------------------------\n",
    "xnew.clear()\n",
    "ynew.clear()\n",
    "for i in range(o+1):\n",
    "    xnew = i\n",
    "    ynew = Norm[i]\n",
    "    plt.plot(xnew, ynew, 'o')\n",
    "plt.title('norm(X)')\n",
    "plt.xlabel('iteration')\n",
    "plt.ylabel('Norm')\n",
    "plt.grid(True)\n",
    "plt.show()\n",
    "print('Разница между решениями')\n",
    "print(SLd.X - SOLVE)\n",
    "print ('time: %f' % (time.time() - start), 'sec')\n",
    "\n"
   ]
  },
  {
   "cell_type": "markdown",
   "metadata": {
    "nbpresent": {
     "id": "f1632926-09e4-44f0-bc67-e0fa5831347a"
    },
    "slideshow": {
     "slide_type": "slide"
    }
   },
   "source": [
    "#####  Вывод \n",
    "****\n",
    "\n",
    ">Код выполняется за адекватное время, поэтому будем считать, что программа достаточно оптимизированна.\n",
    "***\n",
    ">Сравнение графиков зависимости значения интеграла от итерации с trapz показало, что они совпадают, сделанное ввыше предположение о том, что они должны совпадать подтвердилось. \n",
    "***\n",
    ">Сравнение графиков решения и решения методом solve совпадают, что подтверждает адекватность нашего метода. А разница решений показывает небольшую разницу между решениями, что скорее всего получается из-за погрешностей вычисленея\n",
    "***\n",
    ">График значения нормы решения показывает, что с каждой итерацией норма отличается меньше, что логично и должно быть так, по \n",
    "графику видно, что второе приближение мало отличается от первого, значит разница между уже маленькая, а по условию, которое стоит в счетчике while определяется, что на этой итерации счетчик необходимо остановить\n",
    "***\n",
    "\n",
    "\n",
    "> Классы использованы не целесообразно, так как использовались, лишь в качестве моей тренировке работы с классами. \n"
   ]
  }
 ],
 "metadata": {
  "anaconda-cloud": {},
  "celltoolbar": "Slideshow",
  "kernelspec": {
   "display_name": "Python 3",
   "language": "python",
   "name": "python3"
  },
  "language_info": {
   "codemirror_mode": {
    "name": "ipython",
    "version": 3
   },
   "file_extension": ".py",
   "mimetype": "text/x-python",
   "name": "python",
   "nbconvert_exporter": "python",
   "pygments_lexer": "ipython3",
   "version": "3.5.2"
  },
  "nbpresent": {
   "slides": {
    "675cb2ab-1c19-4970-ab16-ef9dd8ec287d": {
     "id": "675cb2ab-1c19-4970-ab16-ef9dd8ec287d",
     "layout": "grid",
     "prev": "c673ae91-81e0-4673-a703-f8230f6645ff",
     "regions": {
      "641e895f-7453-42a1-adbb-60e2d443d278": {
       "attrs": {
        "height": 0.4166666666666667,
        "pad": 0.01,
        "width": 0.8333333333333334,
        "x": 0.08333333333333333,
        "y": 0.5
       },
       "content": {
        "cell": "f1632926-09e4-44f0-bc67-e0fa5831347a",
        "part": "whole"
       },
       "id": "641e895f-7453-42a1-adbb-60e2d443d278"
      },
      "8477d6ec-6294-45ea-b791-e4947229bee9": {
       "attrs": {
        "height": 0.8333333333333334,
        "pad": 0.01,
        "width": 0.8333333333333334,
        "x": 0.08333333333333333,
        "y": 0.08333333333333333
       },
       "content": {
        "cell": "20a796a9-ebd8-45f0-9801-ea593bcc84f3",
        "part": "whole"
       },
       "id": "8477d6ec-6294-45ea-b791-e4947229bee9"
      }
     }
    },
    "76a254c5-4e56-4fd9-80d4-c1d488a5db5b": {
     "id": "76a254c5-4e56-4fd9-80d4-c1d488a5db5b",
     "prev": "675cb2ab-1c19-4970-ab16-ef9dd8ec287d",
     "regions": {
      "03435896-8fb7-41e0-a002-cd8411f8eb58": {
       "attrs": {
        "height": 0.4,
        "width": 0.4,
        "x": 0.09536947748578001,
        "y": 0.10493922401516795
       },
       "id": "03435896-8fb7-41e0-a002-cd8411f8eb58"
      },
      "06be2852-5632-4c68-8002-c02b58fb3d00": {
       "attrs": {
        "height": 0.4,
        "width": 0.4,
        "x": 0.5,
        "y": 0.1
       },
       "id": "06be2852-5632-4c68-8002-c02b58fb3d00"
      },
      "8b73bdc8-126f-4064-bd13-30349d3c0e7b": {
       "attrs": {
        "height": 0.4,
        "width": 0.4,
        "x": 0.5,
        "y": 0.5
       },
       "id": "8b73bdc8-126f-4064-bd13-30349d3c0e7b"
      },
      "ab352870-0441-4e60-b9f3-abcf524d00d1": {
       "attrs": {
        "height": 0.4,
        "width": 0.4,
        "x": 0.1,
        "y": 0.5
       },
       "id": "ab352870-0441-4e60-b9f3-abcf524d00d1"
      }
     }
    },
    "a5be6cec-4480-4b79-99a5-ae96b8d90524": {
     "id": "a5be6cec-4480-4b79-99a5-ae96b8d90524",
     "prev": null,
     "regions": {}
    },
    "c673ae91-81e0-4673-a703-f8230f6645ff": {
     "id": "c673ae91-81e0-4673-a703-f8230f6645ff",
     "prev": "dd5b5988-b825-4c42-9682-00747c44f730",
     "regions": {
      "07078f18-9e6b-4249-a617-044a3b0ea0d8": {
       "attrs": {
        "height": 0.8,
        "width": 0.8,
        "x": 0.1,
        "y": 0.1
       },
       "content": {
        "cell": "b582dbab-7fcf-4590-90a3-344e0779252d",
        "part": "whole"
       },
       "id": "07078f18-9e6b-4249-a617-044a3b0ea0d8"
      }
     }
    },
    "dd5b5988-b825-4c42-9682-00747c44f730": {
     "id": "dd5b5988-b825-4c42-9682-00747c44f730",
     "prev": "a5be6cec-4480-4b79-99a5-ae96b8d90524",
     "regions": {}
    }
   },
   "themes": {
    "default": "5d0f23a0-6325-4bf1-b865-b050965c707a",
    "theme": {
     "5d0f23a0-6325-4bf1-b865-b050965c707a": {
      "backgrounds": {
       "backgroundColor": {
        "background-color": "backgroundColor",
        "id": "backgroundColor"
       }
      },
      "id": "5d0f23a0-6325-4bf1-b865-b050965c707a",
      "palette": {
       "backgroundColor": {
        "id": "backgroundColor",
        "rgb": [
         34,
         34,
         34
        ]
       },
       "headingColor": {
        "id": "headingColor",
        "rgb": [
         238,
         238,
         238
        ]
       },
       "linkColor": {
        "id": "linkColor",
        "rgb": [
         170,
         34,
         51
        ]
       },
       "mainColor": {
        "id": "mainColor",
        "rgb": [
         238,
         238,
         238
        ]
       }
      },
      "rules": {
       "a": {
        "color": "linkColor"
       },
       "h1": {
        "color": "headingColor",
        "font-family": "Ubuntu",
        "font-size": 7
       },
       "h2": {
        "color": "headingColor",
        "font-family": "Ubuntu",
        "font-size": 5
       },
       "h3": {
        "color": "headingColor",
        "font-family": "Ubuntu",
        "font-size": 3.75
       },
       "h4": {
        "color": "headingColor",
        "font-family": "Ubuntu",
        "font-size": 3
       },
       "h5": {
        "color": "headingColor",
        "font-family": "Ubuntu"
       },
       "h6": {
        "color": "headingColor",
        "font-family": "Ubuntu"
       },
       "h7": {
        "color": "headingColor",
        "font-family": "Ubuntu"
       },
       "li": {
        "color": "mainColor",
        "font-family": "Ubuntu",
        "font-size": 5
       },
       "p": {
        "color": "mainColor",
        "font-family": "Ubuntu",
        "font-size": 5
       }
      },
      "text-base": {
       "color": "mainColor",
       "font-family": "Ubuntu",
       "font-size": 5
      }
     }
    }
   }
  }
 },
 "nbformat": 4,
 "nbformat_minor": 1
}
